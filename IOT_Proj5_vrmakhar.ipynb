{
  "nbformat": 4,
  "nbformat_minor": 0,
  "metadata": {
    "colab": {
      "name": "IOT_Proj5_vrmakhar.ipynb",
      "provenance": [],
      "collapsed_sections": [],
      "authorship_tag": "ABX9TyMwZ3ginSpwFkGwuSnx3nBS",
      "include_colab_link": true
    },
    "kernelspec": {
      "name": "python3",
      "display_name": "Python 3"
    }
  },
  "cells": [
    {
      "cell_type": "markdown",
      "metadata": {
        "id": "view-in-github",
        "colab_type": "text"
      },
      "source": [
        "<a href=\"https://colab.research.google.com/github/VineetMakharia/NN-ipynbs/blob/main/IOT_Proj5_vrmakhar.ipynb\" target=\"_parent\"><img src=\"https://colab.research.google.com/assets/colab-badge.svg\" alt=\"Open In Colab\"/></a>"
      ]
    },
    {
      "cell_type": "markdown",
      "metadata": {
        "id": "ubR7XKO7Rg3D"
      },
      "source": [
        "## Task1 - Generating Data\n",
        "\n",
        "\n",
        "\n"
      ]
    },
    {
      "cell_type": "code",
      "metadata": {
        "id": "DF_RdQhjRox3"
      },
      "source": [
        "# Need to generate 1 step transition matrix P\n",
        "import numpy as np\n",
        "from random import seed,random\n",
        "seed(200305247)\n",
        "\n",
        "pij = [[random() for i in range(4)] for j in range(4)]\n",
        "bi = [[random() for i in range(3)] for j in range(4)]\n",
        "pij = np.array(pij)\n",
        "bi = np.array(bi)"
      ],
      "execution_count": null,
      "outputs": []
    },
    {
      "cell_type": "code",
      "metadata": {
        "id": "MRIVYQBqS2HW"
      },
      "source": [
        "pij_normalized = pij/pij.sum(axis=1,keepdims=1)\n",
        "bi_normalized = bi/bi.sum(axis=1,keepdims=1)"
      ],
      "execution_count": null,
      "outputs": []
    },
    {
      "cell_type": "code",
      "metadata": {
        "id": "7U0mXxFTfPXM",
        "outputId": "4b7d201a-be11-456c-de40-fd55294315f2",
        "colab": {
          "base_uri": "https://localhost:8080/"
        }
      },
      "source": [
        "pij_normalized"
      ],
      "execution_count": null,
      "outputs": [
        {
          "output_type": "execute_result",
          "data": {
            "text/plain": [
              "array([[0.34939871, 0.27201376, 0.06268074, 0.31590679],\n",
              "       [0.04198374, 0.31024784, 0.28862287, 0.35914554],\n",
              "       [0.15088122, 0.0827689 , 0.53823738, 0.2281125 ],\n",
              "       [0.18130768, 0.15425041, 0.37581269, 0.28862922]])"
            ]
          },
          "metadata": {
            "tags": []
          },
          "execution_count": 52
        }
      ]
    },
    {
      "cell_type": "code",
      "metadata": {
        "id": "e0xIkaKBTGDu",
        "outputId": "0d1a0e55-5333-4656-9326-9ebc401375c4",
        "colab": {
          "base_uri": "https://localhost:8080/"
        }
      },
      "source": [
        "pij_normalized.sum(1)"
      ],
      "execution_count": null,
      "outputs": [
        {
          "output_type": "execute_result",
          "data": {
            "text/plain": [
              "array([1., 1., 1., 1.])"
            ]
          },
          "metadata": {
            "tags": []
          },
          "execution_count": 53
        }
      ]
    },
    {
      "cell_type": "code",
      "metadata": {
        "id": "qDVU0v_IUX4t",
        "outputId": "625f44dc-32f1-4cef-9cda-f0cafb6371f3",
        "colab": {
          "base_uri": "https://localhost:8080/"
        }
      },
      "source": [
        "bi_normalized"
      ],
      "execution_count": null,
      "outputs": [
        {
          "output_type": "execute_result",
          "data": {
            "text/plain": [
              "array([[0.40123155, 0.2911591 , 0.30760935],\n",
              "       [0.29810649, 0.18336501, 0.5185285 ],\n",
              "       [0.44461846, 0.21923799, 0.33614355],\n",
              "       [0.27652814, 0.49197556, 0.23149629]])"
            ]
          },
          "metadata": {
            "tags": []
          },
          "execution_count": 54
        }
      ]
    },
    {
      "cell_type": "code",
      "metadata": {
        "id": "MA_YBeQwfRi5",
        "outputId": "be6906f4-b208-4505-fb54-814ff67332a6",
        "colab": {
          "base_uri": "https://localhost:8080/"
        }
      },
      "source": [
        "bi_normalized.sum(1)"
      ],
      "execution_count": null,
      "outputs": [
        {
          "output_type": "execute_result",
          "data": {
            "text/plain": [
              "array([1., 1., 1., 1.])"
            ]
          },
          "metadata": {
            "tags": []
          },
          "execution_count": 55
        }
      ]
    },
    {
      "cell_type": "code",
      "metadata": {
        "id": "FSp3lRNjVVH5"
      },
      "source": [
        "# Generating O\n",
        "def generate_O(random_num, row_num):\n",
        "  row_num-=1\n",
        "  to_return = -1\n",
        "  if random_num <= bi_normalized[row_num][0]:\n",
        "    to_return = 1\n",
        "  elif bi_normalized[row_num][0] < random_num <= bi_normalized[row_num][0]+bi_normalized[row_num][1]:\n",
        "    to_return = 2\n",
        "  else:\n",
        "    to_return = 3\n",
        "  \n",
        "  assert (to_return!=-1)\n",
        "  return to_return"
      ],
      "execution_count": null,
      "outputs": []
    },
    {
      "cell_type": "code",
      "metadata": {
        "id": "1032EdJ8b61B"
      },
      "source": [
        "# Generating q1\n",
        "def generate_Q(random_num, row_num):\n",
        "  row_num-=1\n",
        "  to_return = -1\n",
        "  if random_num <= pij_normalized[row_num][0]:\n",
        "    to_return = 1\n",
        "  elif pij_normalized[row_num][0] < random_num <= pij_normalized[row_num][0]+pij_normalized[row_num][1]:\n",
        "    to_return = 2\n",
        "  elif pij_normalized[row_num][0]+pij_normalized[row_num][1] < random_num <= pij_normalized[row_num][0]+pij_normalized[row_num][1] + pij_normalized[row_num][2]:\n",
        "    to_return = 3\n",
        "  else:\n",
        "    to_return = 4\n",
        "  \n",
        "  assert (to_return!=-1)\n",
        "  return to_return"
      ],
      "execution_count": null,
      "outputs": []
    },
    {
      "cell_type": "code",
      "metadata": {
        "id": "4kUL5kjxXepX"
      },
      "source": [
        "q = [1]\n",
        "O = [generate_O(random(),q[-1])]\n",
        "for i in range(999):\n",
        "  q.append(generate_Q(random(),q[-1]))\n",
        "  O.append(generate_O(random(),q[-1]))\n"
      ],
      "execution_count": null,
      "outputs": []
    },
    {
      "cell_type": "code",
      "metadata": {
        "id": "TTPWOyQVZoEM"
      },
      "source": [
        "assert len(q) == 1000\n"
      ],
      "execution_count": null,
      "outputs": []
    },
    {
      "cell_type": "code",
      "metadata": {
        "id": "C2qACCu3drdJ"
      },
      "source": [
        "assert len(O) == 1000"
      ],
      "execution_count": null,
      "outputs": []
    },
    {
      "cell_type": "markdown",
      "metadata": {
        "id": "rOEYyQ00eH6X"
      },
      "source": [
        "## Task 2 - Estimating p(O|𝝀)"
      ]
    },
    {
      "cell_type": "code",
      "metadata": {
        "id": "Pr9-fx62d7SY",
        "outputId": "b66b2b6d-75c9-446c-96e3-ecd1fe00449d",
        "colab": {
          "base_uri": "https://localhost:8080/"
        }
      },
      "source": [
        "# Ref - http://www.adeveloperdiary.com/data-science/machine-learning/forward-and-backward-algorithm-in-hidden-markov-model/\n",
        "observation = [1,2,3,3,1,2,3,3,1,2,3] # Given\n",
        "pi = (1,0,0,0) # Given that we are point 0\n",
        "\n",
        "# Initially our probability will be pi*bi[0]\n",
        "# So our initial probability would be [b1[0][0], 0,0,0]\n",
        "# Initialization Phase\n",
        "\n",
        "a_i = np.array(pi*bi_normalized[:,observation[0]-1])\n",
        "# Since the last next only depends on previous, we can just reuse the same array\n",
        "# Using formula from reference, alpha (t+1) = b[t+1]*sum(ai*alpha(t))\n",
        "for t in range(1, len(observation)):\n",
        "  a_i = bi_normalized[:, observation[t]-1] * a_i.dot(pij_normalized)  \n",
        "print(a_i.sum())"
      ],
      "execution_count": null,
      "outputs": [
        {
          "output_type": "stream",
          "text": [
            "6.405484850449832e-06\n"
          ],
          "name": "stdout"
        }
      ]
    },
    {
      "cell_type": "markdown",
      "metadata": {
        "id": "kKcfargez2oW"
      },
      "source": [
        "## Results - "
      ]
    },
    {
      "cell_type": "markdown",
      "metadata": {
        "id": "1OVFHq1fz9Ju"
      },
      "source": [
        "## Task 3 - Estimating the Most Probable sequence Q"
      ]
    },
    {
      "cell_type": "code",
      "metadata": {
        "id": "bv7Ry_Ap0Ci0",
        "outputId": "3b8ef132-d459-4010-970a-891b7bb2d529",
        "colab": {
          "base_uri": "https://localhost:8080/"
        }
      },
      "source": [
        "# Using the viterbi algorithm\n",
        "\n",
        "# Step 1 - Initialization\n",
        "observation = [1,2,3,3,1,2,3,3,1,2,3]\n",
        "T = len(observation)\n",
        "N = pij_normalized.shape[0]\n",
        "\n",
        "# The book states that we need to create a TxN array to store psi\n",
        "# We also need a delta row which is similar to what we did for a_i in task 2\n",
        "\n",
        "psi = np.zeros((T,N))\n",
        "delta = np.zeros((T, N))\n",
        "delta[0] = np.array(pi*bi_normalized[:,observation[0]-1])\n",
        "\n",
        "# Recursion step\n",
        "# [Book has recursion from t = 2,3...T and i=1,2...N]\n",
        "# Since we are working with 0 based indexing, it will start from one lesser\n",
        "for t in range(1, T):\n",
        "  for i in range(0,N):\n",
        "    delta[t,i] = np.max(delta[t-1] * pij_normalized[:,i]) * bi_normalized[i, observation[t]-1]\n",
        "    psi[t,i] = np.argmax(delta[t-1] * pij_normalized[:,i])\n",
        "\n",
        "# Calculation of optimum path\n",
        "qt = [0 for i in range(T)]\n",
        "qt[T-1] = np.argmax(delta[T-1])\n",
        "for t in range(T-2, -1, -1):\n",
        "  qt[t] = int(psi[t+1, qt[t+1]])\n",
        "\n",
        "print([val+1 for val in qt])"
      ],
      "execution_count": null,
      "outputs": [
        {
          "output_type": "stream",
          "text": [
            "[1, 4, 3, 3, 3, 3, 3, 3, 3, 3, 3]\n"
          ],
          "name": "stdout"
        }
      ]
    },
    {
      "cell_type": "markdown",
      "metadata": {
        "id": "JbbUONsbAH8c"
      },
      "source": [
        "## Task 4 - Train the HMM"
      ]
    },
    {
      "cell_type": "code",
      "metadata": {
        "id": "40aVtJ9kAkWQ",
        "outputId": "65f52d1d-f513-4782-d404-027b86050072",
        "colab": {
          "base_uri": "https://localhost:8080/"
        }
      },
      "source": [
        "!pip install hmmlearn"
      ],
      "execution_count": null,
      "outputs": [
        {
          "output_type": "stream",
          "text": [
            "Collecting hmmlearn\n",
            "\u001b[?25l  Downloading https://files.pythonhosted.org/packages/b3/49/9e9a89cee24b26ef6afec5abbd5eb9cf14632855f32b999389873ecb1b4e/hmmlearn-0.2.4-cp36-cp36m-manylinux1_x86_64.whl (361kB)\n",
            "\r\u001b[K     |█                               | 10kB 15.1MB/s eta 0:00:01\r\u001b[K     |█▉                              | 20kB 2.7MB/s eta 0:00:01\r\u001b[K     |██▊                             | 30kB 3.7MB/s eta 0:00:01\r\u001b[K     |███▋                            | 40kB 4.1MB/s eta 0:00:01\r\u001b[K     |████▌                           | 51kB 3.2MB/s eta 0:00:01\r\u001b[K     |█████▍                          | 61kB 3.5MB/s eta 0:00:01\r\u001b[K     |██████▍                         | 71kB 3.8MB/s eta 0:00:01\r\u001b[K     |███████▎                        | 81kB 4.2MB/s eta 0:00:01\r\u001b[K     |████████▏                       | 92kB 4.3MB/s eta 0:00:01\r\u001b[K     |█████████                       | 102kB 4.2MB/s eta 0:00:01\r\u001b[K     |██████████                      | 112kB 4.2MB/s eta 0:00:01\r\u001b[K     |██████████▉                     | 122kB 4.2MB/s eta 0:00:01\r\u001b[K     |███████████▉                    | 133kB 4.2MB/s eta 0:00:01\r\u001b[K     |████████████▊                   | 143kB 4.2MB/s eta 0:00:01\r\u001b[K     |█████████████▋                  | 153kB 4.2MB/s eta 0:00:01\r\u001b[K     |██████████████▌                 | 163kB 4.2MB/s eta 0:00:01\r\u001b[K     |███████████████▍                | 174kB 4.2MB/s eta 0:00:01\r\u001b[K     |████████████████▎               | 184kB 4.2MB/s eta 0:00:01\r\u001b[K     |█████████████████▎              | 194kB 4.2MB/s eta 0:00:01\r\u001b[K     |██████████████████▏             | 204kB 4.2MB/s eta 0:00:01\r\u001b[K     |███████████████████             | 215kB 4.2MB/s eta 0:00:01\r\u001b[K     |████████████████████            | 225kB 4.2MB/s eta 0:00:01\r\u001b[K     |████████████████████▉           | 235kB 4.2MB/s eta 0:00:01\r\u001b[K     |█████████████████████▊          | 245kB 4.2MB/s eta 0:00:01\r\u001b[K     |██████████████████████▊         | 256kB 4.2MB/s eta 0:00:01\r\u001b[K     |███████████████████████▋        | 266kB 4.2MB/s eta 0:00:01\r\u001b[K     |████████████████████████▌       | 276kB 4.2MB/s eta 0:00:01\r\u001b[K     |█████████████████████████▍      | 286kB 4.2MB/s eta 0:00:01\r\u001b[K     |██████████████████████████▎     | 296kB 4.2MB/s eta 0:00:01\r\u001b[K     |███████████████████████████▏    | 307kB 4.2MB/s eta 0:00:01\r\u001b[K     |████████████████████████████    | 317kB 4.2MB/s eta 0:00:01\r\u001b[K     |█████████████████████████████   | 327kB 4.2MB/s eta 0:00:01\r\u001b[K     |██████████████████████████████  | 337kB 4.2MB/s eta 0:00:01\r\u001b[K     |██████████████████████████████▉ | 348kB 4.2MB/s eta 0:00:01\r\u001b[K     |███████████████████████████████▊| 358kB 4.2MB/s eta 0:00:01\r\u001b[K     |████████████████████████████████| 368kB 4.2MB/s \n",
            "\u001b[?25hRequirement already satisfied: scikit-learn>=0.16 in /usr/local/lib/python3.6/dist-packages (from hmmlearn) (0.22.2.post1)\n",
            "Requirement already satisfied: scipy>=0.19 in /usr/local/lib/python3.6/dist-packages (from hmmlearn) (1.4.1)\n",
            "Requirement already satisfied: numpy>=1.10 in /usr/local/lib/python3.6/dist-packages (from hmmlearn) (1.18.5)\n",
            "Requirement already satisfied: joblib>=0.11 in /usr/local/lib/python3.6/dist-packages (from scikit-learn>=0.16->hmmlearn) (0.17.0)\n",
            "Installing collected packages: hmmlearn\n",
            "Successfully installed hmmlearn-0.2.4\n"
          ],
          "name": "stdout"
        }
      ]
    },
    {
      "cell_type": "code",
      "metadata": {
        "id": "MgpH5GKI8CfG",
        "outputId": "6212973a-4537-43a3-9ac5-5917228f4dce",
        "colab": {
          "base_uri": "https://localhost:8080/"
        }
      },
      "source": [
        "# Ref - https://stackoverflow.com/questions/35806469/fitting-data-to-hmm-multinomialhmm\n",
        "from hmmlearn.hmm import MultinomialHMM\n",
        "map = {1:0,2:1,3:2}\n",
        "new_O = [map[val] for val in O]\n",
        "model = MultinomialHMM(n_components=4, random_state=200305247)\n",
        "X = (np.atleast_2d(new_O))\n",
        "model.fit(X)\n",
        "\n",
        "print(model.startprob_)\n",
        "print('---------')\n",
        "print(model.transmat_)\n",
        "print('---------')\n",
        "print(model.emissionprob_)\n",
        "print()\n",
        "print(\"ORIGINAL\")\n",
        "print(pij_normalized)\n",
        "print('---------')\n",
        "print(bi_normalized)"
      ],
      "execution_count": null,
      "outputs": [
        {
          "output_type": "stream",
          "text": [
            "[9.12205695e-01 8.64188250e-02 3.11750152e-05 1.34430506e-03]\n",
            "---------\n",
            "[[0.24057523 0.29795914 0.21688024 0.24458539]\n",
            " [0.21701765 0.28569463 0.24071877 0.25656895]\n",
            " [0.2307025  0.27483451 0.24133901 0.25312398]\n",
            " [0.22554552 0.27858557 0.24138269 0.25448622]]\n",
            "---------\n",
            "[[1.35691955e-01 3.83098766e-01 4.81209279e-01]\n",
            " [6.35349310e-01 2.46181371e-04 3.64404509e-01]\n",
            " [2.39245124e-01 5.93248049e-01 1.67506827e-01]\n",
            " [3.97572843e-01 3.59921861e-01 2.42505296e-01]]\n",
            "\n",
            "ORIGINAL\n",
            "[[0.34939871 0.27201376 0.06268074 0.31590679]\n",
            " [0.04198374 0.31024784 0.28862287 0.35914554]\n",
            " [0.15088122 0.0827689  0.53823738 0.2281125 ]\n",
            " [0.18130768 0.15425041 0.37581269 0.28862922]]\n",
            "---------\n",
            "[[0.40123155 0.2911591  0.30760935]\n",
            " [0.29810649 0.18336501 0.5185285 ]\n",
            " [0.44461846 0.21923799 0.33614355]\n",
            " [0.27652814 0.49197556 0.23149629]]\n"
          ],
          "name": "stdout"
        }
      ]
    },
    {
      "cell_type": "code",
      "metadata": {
        "id": "aglUMowcRj6v"
      },
      "source": [
        "import matplotlib.pyplot as plt"
      ],
      "execution_count": null,
      "outputs": []
    },
    {
      "cell_type": "code",
      "metadata": {
        "id": "wiPnxmWnAUhk"
      },
      "source": [
        "AIC = lambda l,p1: -2*((l)) + 2*p1\n",
        "BIC = lambda l,p1,T : -2*(math.log(l)) + p1*(np.log(T))\n",
        "p = lambda n,m : m**2 + (n*m) -1"
      ],
      "execution_count": null,
      "outputs": []
    },
    {
      "cell_type": "code",
      "metadata": {
        "id": "6vvWhhoWS7bB"
      },
      "source": [
        "O_new = [generate_O(random(),q[-1]) for i in range(3000)]\n",
        "new_O_1 = [map[val] for val in O_new]"
      ],
      "execution_count": null,
      "outputs": []
    },
    {
      "cell_type": "code",
      "metadata": {
        "id": "wOL24ORGRTZi",
        "outputId": "f7a274cb-ec14-48f0-c2b3-0ec23d2b6cc3",
        "colab": {
          "base_uri": "https://localhost:8080/",
          "height": 286
        }
      },
      "source": [
        "aic = []\n",
        "bic = []\n",
        "likelihood = []\n",
        "\n",
        "for n in range(2,20):\n",
        "    model = MultinomialHMM(n_components=n, random_state=200305247)\n",
        "    X = (np.atleast_2d(new_O_1))\n",
        "    model.fit(X)\n",
        "    l = model.score(X)\n",
        "    likelihood.append(l)\n",
        "    p_return = p(n,m)\n",
        "    aic.append(AIC(l, p_return))\n",
        "    bic.append(BIC(l, observations, p_return))"
      ],
      "execution_count": null,
      "outputs": [
        {
          "output_type": "error",
          "ename": "ValueError",
          "evalue": "ignored",
          "traceback": [
            "\u001b[0;31m---------------------------------------------------------------------------\u001b[0m",
            "\u001b[0;31mValueError\u001b[0m                                Traceback (most recent call last)",
            "\u001b[0;32m<ipython-input-159-5fd6e3a3858e>\u001b[0m in \u001b[0;36m<module>\u001b[0;34m()\u001b[0m\n\u001b[1;32m     11\u001b[0m     \u001b[0mp_return\u001b[0m \u001b[0;34m=\u001b[0m \u001b[0mp\u001b[0m\u001b[0;34m(\u001b[0m\u001b[0mn\u001b[0m\u001b[0;34m,\u001b[0m\u001b[0mm\u001b[0m\u001b[0;34m)\u001b[0m\u001b[0;34m\u001b[0m\u001b[0;34m\u001b[0m\u001b[0m\n\u001b[1;32m     12\u001b[0m     \u001b[0maic\u001b[0m\u001b[0;34m.\u001b[0m\u001b[0mappend\u001b[0m\u001b[0;34m(\u001b[0m\u001b[0mAIC\u001b[0m\u001b[0;34m(\u001b[0m\u001b[0ml\u001b[0m\u001b[0;34m,\u001b[0m \u001b[0mp_return\u001b[0m\u001b[0;34m)\u001b[0m\u001b[0;34m)\u001b[0m\u001b[0;34m\u001b[0m\u001b[0;34m\u001b[0m\u001b[0m\n\u001b[0;32m---> 13\u001b[0;31m     \u001b[0mbic\u001b[0m\u001b[0;34m.\u001b[0m\u001b[0mappend\u001b[0m\u001b[0;34m(\u001b[0m\u001b[0mBIC\u001b[0m\u001b[0;34m(\u001b[0m\u001b[0ml\u001b[0m\u001b[0;34m,\u001b[0m \u001b[0mobservations\u001b[0m\u001b[0;34m,\u001b[0m \u001b[0mp_return\u001b[0m\u001b[0;34m)\u001b[0m\u001b[0;34m)\u001b[0m\u001b[0;34m\u001b[0m\u001b[0;34m\u001b[0m\u001b[0m\n\u001b[0m",
            "\u001b[0;32m<ipython-input-156-4e08383215f3>\u001b[0m in \u001b[0;36m<lambda>\u001b[0;34m(l, p1, T)\u001b[0m\n\u001b[1;32m      1\u001b[0m \u001b[0mAIC\u001b[0m \u001b[0;34m=\u001b[0m \u001b[0;32mlambda\u001b[0m \u001b[0ml\u001b[0m\u001b[0;34m,\u001b[0m\u001b[0mp1\u001b[0m\u001b[0;34m:\u001b[0m \u001b[0;34m-\u001b[0m\u001b[0;36m2\u001b[0m\u001b[0;34m*\u001b[0m\u001b[0;34m(\u001b[0m\u001b[0;34m(\u001b[0m\u001b[0ml\u001b[0m\u001b[0;34m)\u001b[0m\u001b[0;34m)\u001b[0m \u001b[0;34m+\u001b[0m \u001b[0;36m2\u001b[0m\u001b[0;34m*\u001b[0m\u001b[0mp1\u001b[0m\u001b[0;34m\u001b[0m\u001b[0;34m\u001b[0m\u001b[0m\n\u001b[0;32m----> 2\u001b[0;31m \u001b[0mBIC\u001b[0m \u001b[0;34m=\u001b[0m \u001b[0;32mlambda\u001b[0m \u001b[0ml\u001b[0m\u001b[0;34m,\u001b[0m\u001b[0mp1\u001b[0m\u001b[0;34m,\u001b[0m\u001b[0mT\u001b[0m \u001b[0;34m:\u001b[0m \u001b[0;34m-\u001b[0m\u001b[0;36m2\u001b[0m\u001b[0;34m*\u001b[0m\u001b[0;34m(\u001b[0m\u001b[0mmath\u001b[0m\u001b[0;34m.\u001b[0m\u001b[0mlog\u001b[0m\u001b[0;34m(\u001b[0m\u001b[0ml\u001b[0m\u001b[0;34m)\u001b[0m\u001b[0;34m)\u001b[0m \u001b[0;34m+\u001b[0m \u001b[0mp1\u001b[0m\u001b[0;34m*\u001b[0m\u001b[0;34m(\u001b[0m\u001b[0mnp\u001b[0m\u001b[0;34m.\u001b[0m\u001b[0mlog\u001b[0m\u001b[0;34m(\u001b[0m\u001b[0mT\u001b[0m\u001b[0;34m)\u001b[0m\u001b[0;34m)\u001b[0m\u001b[0;34m\u001b[0m\u001b[0;34m\u001b[0m\u001b[0m\n\u001b[0m\u001b[1;32m      3\u001b[0m \u001b[0mp\u001b[0m \u001b[0;34m=\u001b[0m \u001b[0;32mlambda\u001b[0m \u001b[0mn\u001b[0m\u001b[0;34m,\u001b[0m\u001b[0mm\u001b[0m \u001b[0;34m:\u001b[0m \u001b[0mm\u001b[0m\u001b[0;34m**\u001b[0m\u001b[0;36m2\u001b[0m \u001b[0;34m+\u001b[0m \u001b[0;34m(\u001b[0m\u001b[0mn\u001b[0m\u001b[0;34m*\u001b[0m\u001b[0mm\u001b[0m\u001b[0;34m)\u001b[0m \u001b[0;34m-\u001b[0m\u001b[0;36m1\u001b[0m\u001b[0;34m\u001b[0m\u001b[0;34m\u001b[0m\u001b[0m\n",
            "\u001b[0;31mValueError\u001b[0m: math domain error"
          ]
        }
      ]
    },
    {
      "cell_type": "code",
      "metadata": {
        "id": "J2DeIXy-eypn"
      },
      "source": [
        "def plot(y, label):\n",
        "    x = np.arange(2,20)\n",
        "    plt.plot(x,y, marker='o', color='blue', linewidth=2, label=label)\n",
        "    plt.xlabel('Number of states')\n",
        "    plt.ylabel(label)\n",
        "    plt.title('Selection of number of states -{}'.format(label))\n",
        "    plt.savefig('{}.png'.format(label))\n",
        "    plt.show()"
      ],
      "execution_count": null,
      "outputs": []
    },
    {
      "cell_type": "code",
      "metadata": {
        "id": "uESel3rzRbC4",
        "outputId": "e96ed348-b9bb-43ce-db6b-f7c3f8e63c67",
        "colab": {
          "base_uri": "https://localhost:8080/",
          "height": 295
        }
      },
      "source": [
        "plot(aic,'AIC')\n",
        "# plot(bic,'BIC')\n",
        "# plot(likelihood,'Log likelihood')"
      ],
      "execution_count": null,
      "outputs": [
        {
          "output_type": "display_data",
          "data": {
            "image/png": "[encoded data removed]",
            "text/plain": [
              "<Figure size 432x288 with 1 Axes>"
            ]
          },
          "metadata": {
            "tags": [],
            "needs_background": "light"
          }
        }
      ]
    },
    {
      "cell_type": "code",
      "metadata": {
        "id": "j7ZroNkcRnnm"
      },
      "source": [
        ""
      ],
      "execution_count": null,
      "outputs": []
    }
  ]
}