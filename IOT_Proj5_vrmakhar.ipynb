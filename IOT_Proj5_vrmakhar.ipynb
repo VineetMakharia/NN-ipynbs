{
  "nbformat": 4,
  "nbformat_minor": 0,
  "metadata": {
    "colab": {
      "name": "IOT_Proj5_vrmakhar.ipynb",
      "provenance": [],
      "collapsed_sections": [],
      "authorship_tag": "ABX9TyO8XmVP8SlrGGCtzF+YpWQn",
      "include_colab_link": true
    },
    "kernelspec": {
      "name": "python3",
      "display_name": "Python 3"
    }
  },
  "cells": [
    {
      "cell_type": "markdown",
      "metadata": {
        "id": "view-in-github",
        "colab_type": "text"
      },
      "source": [
        "<a href=\"https://colab.research.google.com/github/VineetMakharia/NN-ipynbs/blob/main/IOT_Proj5_vrmakhar.ipynb\" target=\"_parent\"><img src=\"https://colab.research.google.com/assets/colab-badge.svg\" alt=\"Open In Colab\"/></a>"
      ]
    },
    {
      "cell_type": "markdown",
      "metadata": {
        "id": "ubR7XKO7Rg3D"
      },
      "source": [
        "## Task1 - Generating Data\n",
        "\n",
        "\n",
        "\n"
      ]
    },
    {
      "cell_type": "code",
      "metadata": {
        "id": "DF_RdQhjRox3"
      },
      "source": [
        "import numpy as np\n",
        "from random import seed,random\n",
        "seed(200305247)\n",
        "\n",
        "pij = [[random() for i in range(4)] for j in range(4)]\n",
        "bi = [[random() for i in range(3)] for j in range(4)]\n",
        "pij = np.array(pij)\n",
        "bi = np.array(bi)"
      ],
      "execution_count": 1,
      "outputs": []
    },
    {
      "cell_type": "code",
      "metadata": {
        "id": "MRIVYQBqS2HW"
      },
      "source": [
        "pij_normalized = pij/pij.sum(axis=1,keepdims=1)\n",
        "bi_normalized = bi/bi.sum(axis=1,keepdims=1)"
      ],
      "execution_count": 2,
      "outputs": []
    },
    {
      "cell_type": "code",
      "metadata": {
        "id": "7U0mXxFTfPXM",
        "outputId": "bb81ddbd-de16-494a-9e06-0a81e104d46f",
        "colab": {
          "base_uri": "https://localhost:8080/"
        }
      },
      "source": [
        "pij_normalized"
      ],
      "execution_count": 3,
      "outputs": [
        {
          "output_type": "execute_result",
          "data": {
            "text/plain": [
              "array([[0.34939871, 0.27201376, 0.06268074, 0.31590679],\n",
              "       [0.04198374, 0.31024784, 0.28862287, 0.35914554],\n",
              "       [0.15088122, 0.0827689 , 0.53823738, 0.2281125 ],\n",
              "       [0.18130768, 0.15425041, 0.37581269, 0.28862922]])"
            ]
          },
          "metadata": {
            "tags": []
          },
          "execution_count": 3
        }
      ]
    },
    {
      "cell_type": "code",
      "metadata": {
        "id": "e0xIkaKBTGDu",
        "outputId": "0282b740-3d8e-48ac-a6ab-7fb0eab8572c",
        "colab": {
          "base_uri": "https://localhost:8080/"
        }
      },
      "source": [
        "pij_normalized.sum(1)"
      ],
      "execution_count": 4,
      "outputs": [
        {
          "output_type": "execute_result",
          "data": {
            "text/plain": [
              "array([1., 1., 1., 1.])"
            ]
          },
          "metadata": {
            "tags": []
          },
          "execution_count": 4
        }
      ]
    },
    {
      "cell_type": "code",
      "metadata": {
        "id": "qDVU0v_IUX4t",
        "outputId": "2708a20a-938a-4794-eebe-382ca3668b37",
        "colab": {
          "base_uri": "https://localhost:8080/"
        }
      },
      "source": [
        "bi_normalized"
      ],
      "execution_count": 5,
      "outputs": [
        {
          "output_type": "execute_result",
          "data": {
            "text/plain": [
              "array([[0.40123155, 0.2911591 , 0.30760935],\n",
              "       [0.29810649, 0.18336501, 0.5185285 ],\n",
              "       [0.44461846, 0.21923799, 0.33614355],\n",
              "       [0.27652814, 0.49197556, 0.23149629]])"
            ]
          },
          "metadata": {
            "tags": []
          },
          "execution_count": 5
        }
      ]
    },
    {
      "cell_type": "code",
      "metadata": {
        "id": "MA_YBeQwfRi5",
        "outputId": "0b715f40-43a0-427b-e66e-e9378bd5dcbe",
        "colab": {
          "base_uri": "https://localhost:8080/"
        }
      },
      "source": [
        "bi_normalized.sum(1)"
      ],
      "execution_count": 6,
      "outputs": [
        {
          "output_type": "execute_result",
          "data": {
            "text/plain": [
              "array([1., 1., 1., 1.])"
            ]
          },
          "metadata": {
            "tags": []
          },
          "execution_count": 6
        }
      ]
    },
    {
      "cell_type": "code",
      "metadata": {
        "id": "FSp3lRNjVVH5"
      },
      "source": [
        "# Generating O\n",
        "def generate_O(random_num, row_num):\n",
        "  row_num-=1\n",
        "  to_return = -1\n",
        "  if random_num <= bi_normalized[row_num][0]:\n",
        "    to_return = 1\n",
        "  elif bi_normalized[row_num][0] < random_num <= bi_normalized[row_num][0]+bi_normalized[row_num][1]:\n",
        "    to_return = 2\n",
        "  else:\n",
        "    to_return = 3\n",
        "  \n",
        "  assert (to_return!=-1)\n",
        "  return to_return"
      ],
      "execution_count": 7,
      "outputs": []
    },
    {
      "cell_type": "code",
      "metadata": {
        "id": "1032EdJ8b61B"
      },
      "source": [
        "# Generating q1\n",
        "def generate_Q(random_num, row_num):\n",
        "  row_num-=1\n",
        "  to_return = -1\n",
        "  if random_num <= pij_normalized[row_num][0]:\n",
        "    to_return = 1\n",
        "  elif pij_normalized[row_num][0] < random_num <= pij_normalized[row_num][0]+pij_normalized[row_num][1]:\n",
        "    to_return = 2\n",
        "  elif pij_normalized[row_num][0]+pij_normalized[row_num][1] < random_num <= pij_normalized[row_num][0]+pij_normalized[row_num][1] + pij_normalized[row_num][2]:\n",
        "    to_return = 3\n",
        "  else:\n",
        "    to_return = 4\n",
        "  \n",
        "  assert (to_return!=-1)\n",
        "  return to_return"
      ],
      "execution_count": 8,
      "outputs": []
    },
    {
      "cell_type": "code",
      "metadata": {
        "id": "4kUL5kjxXepX"
      },
      "source": [
        "q = [1]\n",
        "O = [generate_O(random(),q[-1])]\n",
        "for i in range(999):\n",
        "  q.append(generate_Q(random(),q[-1]))\n",
        "  O.append(generate_O(random(),q[-1]))\n"
      ],
      "execution_count": 9,
      "outputs": []
    },
    {
      "cell_type": "code",
      "metadata": {
        "id": "TTPWOyQVZoEM"
      },
      "source": [
        "assert len(q) == 1000\n"
      ],
      "execution_count": 10,
      "outputs": []
    },
    {
      "cell_type": "code",
      "metadata": {
        "id": "C2qACCu3drdJ"
      },
      "source": [
        "assert len(O) == 1000"
      ],
      "execution_count": 11,
      "outputs": []
    },
    {
      "cell_type": "markdown",
      "metadata": {
        "id": "rOEYyQ00eH6X"
      },
      "source": [
        "## Task 2 - Estimating p(O|𝝀)"
      ]
    },
    {
      "cell_type": "code",
      "metadata": {
        "id": "Pr9-fx62d7SY",
        "outputId": "d9a473e5-7044-4ffb-d498-9db634b41a27",
        "colab": {
          "base_uri": "https://localhost:8080/"
        }
      },
      "source": [
        "# Ref - http://www.adeveloperdiary.com/data-science/machine-learning/forward-and-backward-algorithm-in-hidden-markov-model/\n",
        "observation = [1,2,3,3,1,2,3,3,1,2,3] # Given\n",
        "pi = (1,0,0,0) # Given that we are point 0\n",
        "\n",
        "# Initially our probability will be pi*bi[0]\n",
        "# So our initial probability would be [b1[0][0], 0,0,0]\n",
        "# Initialization Phase\n",
        "a_i = np.array(pi*bi_normalized[:,observation[0]-1])\n",
        "\n",
        "#Recursion phase\n",
        "# Since the last next only depends on previous, we can just reuse the same array\n",
        "# Using formula from reference, alpha (t+1) = b[t+1]*sum(ai*alpha(t))\n",
        "for t in range(1, len(observation)):\n",
        "  a_i = bi_normalized[:, observation[t]-1] * a_i.dot(pij_normalized)  \n",
        "print(a_i.sum())"
      ],
      "execution_count": 12,
      "outputs": [
        {
          "output_type": "stream",
          "text": [
            "6.405484850449832e-06\n"
          ],
          "name": "stdout"
        }
      ]
    },
    {
      "cell_type": "code",
      "metadata": {
        "id": "-73GkFgl2hqR",
        "outputId": "48cf179e-9a3e-4a1e-d559-9aabaecbccf3",
        "colab": {
          "base_uri": "https://localhost:8080/"
        }
      },
      "source": [
        "print(O[:12])"
      ],
      "execution_count": 13,
      "outputs": [
        {
          "output_type": "stream",
          "text": [
            "[3, 1, 2, 2, 3, 1, 3, 1, 1, 2, 2, 3]\n"
          ],
          "name": "stdout"
        }
      ]
    },
    {
      "cell_type": "markdown",
      "metadata": {
        "id": "kKcfargez2oW"
      },
      "source": [
        "## Results - \n",
        "1. In task 1, we generated seq O using the pseudo random generator from our P matrix and then got the result as [3, 1, 2, 2, 3, 1, 3, 1, 1, 2, 2, 3].\n",
        "\n",
        "2. We were given that the original sequence of observations was [1,2,3,3,1,2,3,3,1,2,3] and we had to calculate the probability of arriving at this sequence from our \"O\"\n",
        "\n",
        "3. Using the forward algorithm, we find the corresponding alpha for every time t after the first one. (During the initialization phase we know that the alpha[t] for that phase would simply be b[i]*pi <br>\n",
        "[P.S. - The book states that to find the conditional probability, we only need the forward algorithm]\n",
        "\n",
        "4. We find that the conditional probability of given sequence to the sequence we generated is 6.54*10^-6 ~= 0. This makes sense as when we observe the generated sequence vs the observed sequence, we notice that the first term itself is different. This should mean that we can never get to the the given sequence aka prob = 0\n",
        "\n",
        "5. I have defined my alpha array as a 1-d array inorder to reduce the space complexity since we always just need the immediate previous values."
      ]
    },
    {
      "cell_type": "markdown",
      "metadata": {
        "id": "1OVFHq1fz9Ju"
      },
      "source": [
        "## Task 3 - Estimating the Most Probable sequence Q"
      ]
    },
    {
      "cell_type": "code",
      "metadata": {
        "id": "bv7Ry_Ap0Ci0",
        "outputId": "3a948226-114e-4212-921f-77167c691805",
        "colab": {
          "base_uri": "https://localhost:8080/"
        }
      },
      "source": [
        "# Using the viterbi algorithm\n",
        "\n",
        "# Step 1 - Initialization\n",
        "observation = [1,2,3,3,1,2,3,3,1,2,3]\n",
        "T = len(observation)\n",
        "N = pij_normalized.shape[0]\n",
        "\n",
        "# The book states that we need to create a TxN array to store psi\n",
        "# We also need a delta row which is similar to what we did for a_i in task 2\n",
        "\n",
        "psi = np.zeros((T,N))\n",
        "delta = np.zeros((T, N))\n",
        "delta[0] = np.array(pi*bi_normalized[:,observation[0]-1])\n",
        "\n",
        "# Step 2 - Recursion step\n",
        "# [Book has recursion from t = 2,3...T and i=1,2...N]\n",
        "# Since we are working with 0 based indexing, it will start from one lesser\n",
        "for t in range(1, T):\n",
        "  for i in range(0,N):\n",
        "    delta[t,i] = np.max(delta[t-1] * pij_normalized[:,i]) * bi_normalized[i, observation[t]-1]\n",
        "    psi[t,i] = np.argmax(delta[t-1] * pij_normalized[:,i])\n",
        "\n",
        "# Step 3 - Calculation of optimum path\n",
        "qt = [0 for i in range(T)]\n",
        "qt[T-1] = np.argmax(delta[T-1])\n",
        "for t in range(T-2, -1, -1):\n",
        "  qt[t] = int(psi[t+1, qt[t+1]])\n",
        "\n",
        "print(\"The most probable sequence of states knowing P,pi,B is -\")\n",
        "print([val+1 for val in qt])"
      ],
      "execution_count": 14,
      "outputs": [
        {
          "output_type": "stream",
          "text": [
            "The most probable sequence of states knowing P,pi,B is -\n",
            "[1, 4, 3, 3, 3, 3, 3, 3, 3, 3, 3]\n"
          ],
          "name": "stdout"
        }
      ]
    },
    {
      "cell_type": "code",
      "metadata": {
        "id": "5v9yHWOP55Ql",
        "outputId": "a2bbd8a7-fda1-414e-e3d3-d55cce374ac1",
        "colab": {
          "base_uri": "https://localhost:8080/"
        }
      },
      "source": [
        "print(\"The generated sequence is - \")\n",
        "print(q[:12])"
      ],
      "execution_count": 15,
      "outputs": [
        {
          "output_type": "stream",
          "text": [
            "The generated sequence is - \n",
            "[1, 1, 4, 3, 2, 3, 1, 1, 1, 4, 4, 1]\n"
          ],
          "name": "stdout"
        }
      ]
    },
    {
      "cell_type": "code",
      "metadata": {
        "id": "Sngu9zlI72GX",
        "outputId": "ab189623-40ac-4702-bd06-2c3ccef9de86",
        "colab": {
          "base_uri": "https://localhost:8080/"
        }
      },
      "source": [
        "print(\"Original observation is - \")\n",
        "print(observation)"
      ],
      "execution_count": 16,
      "outputs": [
        {
          "output_type": "stream",
          "text": [
            "Original observation is - \n",
            "[1, 2, 3, 3, 1, 2, 3, 3, 1, 2, 3]\n"
          ],
          "name": "stdout"
        }
      ]
    },
    {
      "cell_type": "markdown",
      "metadata": {
        "id": "k5j_rrin6gYA"
      },
      "source": [
        "## Results -\n",
        "1. Using the viterbi algorithm is better to find the most probable sequence of states as it uses Dynamic Programming.\n",
        "\n",
        "2. The generated sequence from task 1 is - [1, 1, 4, 3, 2, 3, 1, 1, 1, 4, 4, 1] and using O and the viterbi algorithm, we determine the most probable sequnce as - [1, 4, 3, 3, 3, 3, 3, 3, 3, 3, 3].\n",
        "\n",
        "3. The original observation is - [1, 2, 3, 3, 1, 2, 3, 3, 1, 2, 3]. Originally, we're at point 1 and we have 4 choices for the next state. Looking at the pij_normalized matrix we can see that the 2 highest probabilites are for staying on state 1 and the next highest one is moving to state 4.\n",
        "\n",
        "4. Thus, post computation, we can say that the most probable sequence was the one we observed.\n"
      ]
    },
    {
      "cell_type": "markdown",
      "metadata": {
        "id": "JbbUONsbAH8c"
      },
      "source": [
        "## Task 4 - Train the HMM"
      ]
    },
    {
      "cell_type": "code",
      "metadata": {
        "id": "40aVtJ9kAkWQ",
        "outputId": "49993fcc-a631-4dd4-d064-4e587fbf3d2b",
        "colab": {
          "base_uri": "https://localhost:8080/"
        }
      },
      "source": [
        "!pip install hmmlearn"
      ],
      "execution_count": 17,
      "outputs": [
        {
          "output_type": "stream",
          "text": [
            "Requirement already satisfied: hmmlearn in /usr/local/lib/python3.6/dist-packages (0.2.4)\n",
            "Requirement already satisfied: scikit-learn>=0.16 in /usr/local/lib/python3.6/dist-packages (from hmmlearn) (0.22.2.post1)\n",
            "Requirement already satisfied: numpy>=1.10 in /usr/local/lib/python3.6/dist-packages (from hmmlearn) (1.18.5)\n",
            "Requirement already satisfied: scipy>=0.19 in /usr/local/lib/python3.6/dist-packages (from hmmlearn) (1.4.1)\n",
            "Requirement already satisfied: joblib>=0.11 in /usr/local/lib/python3.6/dist-packages (from scikit-learn>=0.16->hmmlearn) (0.17.0)\n"
          ],
          "name": "stdout"
        }
      ]
    },
    {
      "cell_type": "code",
      "metadata": {
        "id": "MgpH5GKI8CfG",
        "outputId": "a1f3f81a-5347-4ced-f4f2-b14d7d7682e0",
        "colab": {
          "base_uri": "https://localhost:8080/"
        }
      },
      "source": [
        "# Ref - https://stackoverflow.com/questions/35806469/fitting-data-to-hmm-multinomialhmm\n",
        "from hmmlearn.hmm import MultinomialHMM\n",
        "map = {1:0,2:1,3:2}\n",
        "new_O = [map[val] for val in O]\n",
        "model = MultinomialHMM(n_components=4, random_state=200305247)\n",
        "X = (np.atleast_2d(new_O))\n",
        "model.fit(X)\n",
        "\n",
        "print(model.startprob_)\n",
        "print('---------')\n",
        "print(model.transmat_)\n",
        "print('---------')\n",
        "print(model.emissionprob_)\n",
        "print()\n",
        "print(\"ORIGINAL\")\n",
        "print(np.array(pi))\n",
        "print('---------')\n",
        "print(pij_normalized)\n",
        "print('---------')\n",
        "print(bi_normalized)"
      ],
      "execution_count": 18,
      "outputs": [
        {
          "output_type": "stream",
          "text": [
            "[9.12205695e-01 8.64188250e-02 3.11750152e-05 1.34430506e-03]\n",
            "---------\n",
            "[[0.24057523 0.29795914 0.21688024 0.24458539]\n",
            " [0.21701765 0.28569463 0.24071877 0.25656895]\n",
            " [0.2307025  0.27483451 0.24133901 0.25312398]\n",
            " [0.22554552 0.27858557 0.24138269 0.25448622]]\n",
            "---------\n",
            "[[1.35691955e-01 3.83098766e-01 4.81209279e-01]\n",
            " [6.35349310e-01 2.46181371e-04 3.64404509e-01]\n",
            " [2.39245124e-01 5.93248049e-01 1.67506827e-01]\n",
            " [3.97572843e-01 3.59921861e-01 2.42505296e-01]]\n",
            "\n",
            "ORIGINAL\n",
            "[1 0 0 0]\n",
            "---------\n",
            "[[0.34939871 0.27201376 0.06268074 0.31590679]\n",
            " [0.04198374 0.31024784 0.28862287 0.35914554]\n",
            " [0.15088122 0.0827689  0.53823738 0.2281125 ]\n",
            " [0.18130768 0.15425041 0.37581269 0.28862922]]\n",
            "---------\n",
            "[[0.40123155 0.2911591  0.30760935]\n",
            " [0.29810649 0.18336501 0.5185285 ]\n",
            " [0.44461846 0.21923799 0.33614355]\n",
            " [0.27652814 0.49197556 0.23149629]]\n"
          ],
          "name": "stdout"
        }
      ]
    },
    {
      "cell_type": "markdown",
      "metadata": {
        "id": "5IPHerEb_PEv"
      },
      "source": [
        "## Results -\n",
        "1. Post Training the hmm model, the  determined (P,pi,B) are shown in the results above.\n",
        "\n",
        "2. Comparing the pi, we can see that the trained model gave the highest start prob to state 1 (p=0.9) which corresponds well with our original data of starting at state 1 with prob=1.\n",
        "\n",
        "3. Comparing the transmission probabilities, our values seem to be close to the original. For example for the state 1, our values for moving to state 2 and 4 are very close to the original. Similarly, there are several other instances where the transmission probabilites are close to the original.\n",
        "\n",
        "4. Comparing the emission probabiliteis, a similar conclusion can be formed as above.\n",
        "\n",
        "5. Thus, we can say that our model fit will for the generated data.\n"
      ]
    },
    {
      "cell_type": "markdown",
      "metadata": {
        "id": "sGG6PcYu_RA0"
      },
      "source": [
        "## Extra Credit -"
      ]
    },
    {
      "cell_type": "code",
      "metadata": {
        "id": "aglUMowcRj6v"
      },
      "source": [
        "import matplotlib.pyplot as plt"
      ],
      "execution_count": 19,
      "outputs": []
    },
    {
      "cell_type": "code",
      "metadata": {
        "id": "wiPnxmWnAUhk"
      },
      "source": [
        "AIC = lambda l,p1: -2*(l) + 2*p1\n",
        "BIC = lambda l,p1,T : -2*(l) + p1*(np.log(len(T)))\n",
        "p = lambda n,m : m**2 + (n*m) -1"
      ],
      "execution_count": 20,
      "outputs": []
    },
    {
      "cell_type": "code",
      "metadata": {
        "id": "6vvWhhoWS7bB"
      },
      "source": [
        "# Generating 3000 observations\n",
        "O_new = [generate_O(random(),q[-1]) for i in range(3000)]\n",
        "new_O_1 = [map[val] for val in O_new]"
      ],
      "execution_count": 21,
      "outputs": []
    },
    {
      "cell_type": "code",
      "metadata": {
        "id": "wOL24ORGRTZi",
        "outputId": "022d5d06-3936-4478-b88d-9ddf44ea709a",
        "colab": {
          "base_uri": "https://localhost:8080/"
        }
      },
      "source": [
        "# https://github.com/hmmlearn/hmmlearn/issues/220#issuecomment-335044606\n",
        "# model.score already return log liklelihood, no need to take log again\n",
        "aic = []\n",
        "bic = []\n",
        "likelihood = []\n",
        "num_objects=3\n",
        "for n in range(2,50):\n",
        "    model = MultinomialHMM(n_components=n, random_state=200305247)\n",
        "    X = (np.atleast_2d(new_O_1))\n",
        "    model.fit(X)\n",
        "    l = model.score(X)\n",
        "    p_return = p(n,num_objects)\n",
        "    calc_aic = AIC(l, p_return)\n",
        "    calc_bic = BIC(l,p_return,observation)\n",
        "    print(f'likelihood: {l}, AIC: {calc_aic}, BIC: {calc_bic}')\n",
        "    likelihood.append(l)\n",
        "    aic.append(calc_aic)\n",
        "    bic.append(calc_bic)"
      ],
      "execution_count": 22,
      "outputs": [
        {
          "output_type": "stream",
          "text": [
            "likelihood: -3119.90431606147, AIC: 6267.80863212294, BIC: 6273.379165942118\n",
            "likelihood: -3119.0824381018683, AIC: 6272.164876203737, BIC: 6278.929095841309\n",
            "likelihood: -3119.3277682684356, AIC: 6278.655536536871, BIC: 6286.6134419928385\n",
            "likelihood: -3119.3657498860302, AIC: 6284.7314997720605, BIC: 6293.883091046423\n",
            "likelihood: -3119.365045078231, AIC: 6290.730090156462, BIC: 6301.07536724922\n",
            "likelihood: -3119.37247476034, AIC: 6296.74494952068, BIC: 6308.2839124318325\n",
            "likelihood: -3119.4867466789296, AIC: 6302.973493357859, BIC: 6315.706142087407\n",
            "likelihood: -3119.568878659763, AIC: 6309.137757319526, BIC: 6323.064091867469\n",
            "likelihood: -3119.6364099589696, AIC: 6315.272819917939, BIC: 6330.392840284278\n",
            "likelihood: -3119.641768396534, AIC: 6321.283536793068, BIC: 6337.597242977801\n",
            "likelihood: -3119.583554006716, AIC: 6327.167108013432, BIC: 6344.67450001656\n",
            "likelihood: -3119.5319079007068, AIC: 6333.0638158014135, BIC: 6351.764893622937\n",
            "likelihood: -3119.490959088145, AIC: 6338.98191817629, BIC: 6358.8766818162085\n",
            "likelihood: -3119.5084968184174, AIC: 6345.016993636835, BIC: 6366.105443095148\n",
            "likelihood: -3119.4828258507387, AIC: 6350.965651701477, BIC: 6373.247786978186\n",
            "likelihood: -3119.491114564481, AIC: 6356.982229128962, BIC: 6380.458050224066\n",
            "likelihood: -3119.512722137708, AIC: 6363.025444275416, BIC: 6387.694951188915\n",
            "likelihood: -3119.545954979622, AIC: 6369.091909959244, BIC: 6394.955102691138\n",
            "likelihood: -3119.5535661370277, AIC: 6375.107132274055, BIC: 6402.164010824345\n",
            "likelihood: -3119.578943639334, AIC: 6381.157887278668, BIC: 6409.408451647352\n",
            "likelihood: -3119.562235829153, AIC: 6387.124471658306, BIC: 6416.568721845386\n",
            "likelihood: -3119.553981321288, AIC: 6393.107962642576, BIC: 6423.745898648051\n",
            "likelihood: -3119.4081231130485, AIC: 6398.816246226097, BIC: 6430.647868049967\n",
            "likelihood: -3119.367866745743, AIC: 6404.735733491486, BIC: 6437.761041133751\n",
            "likelihood: -3119.3993469449547, AIC: 6410.798693889909, BIC: 6445.017687350569\n",
            "likelihood: -3119.3786708761822, AIC: 6416.7573417523645, BIC: 6452.170021031419\n",
            "likelihood: -3119.4091529484717, AIC: 6422.8183058969435, BIC: 6459.424670994394\n",
            "likelihood: -3119.4364505975336, AIC: 6428.872901195067, BIC: 6466.672952110913\n",
            "likelihood: -3119.4581494600225, AIC: 6434.916298920045, BIC: 6473.910035654285\n",
            "likelihood: -3119.4662920423093, AIC: 6440.932584084619, BIC: 6481.120006637254\n",
            "likelihood: -3119.4395645400778, AIC: 6446.8791290801555, BIC: 6488.260237451186\n",
            "likelihood: -3119.4580709253314, AIC: 6452.916141850663, BIC: 6495.490936040089\n",
            "likelihood: -3119.2585435321776, AIC: 6458.517087064355, BIC: 6502.285567072176\n",
            "likelihood: -3119.2532092770603, AIC: 6464.5064185541205, BIC: 6509.468584380336\n",
            "likelihood: -3119.2522164845946, AIC: 6470.504432969189, BIC: 6516.6602846138\n",
            "likelihood: -3119.0839362264583, AIC: 6476.1678724529165, BIC: 6523.517409915923\n",
            "likelihood: -3119.086794313613, AIC: 6482.173588627226, BIC: 6530.716811908627\n",
            "likelihood: -3119.0913032104168, AIC: 6488.1826064208335, BIC: 6537.91951552063\n",
            "likelihood: -3119.108107908409, AIC: 6494.216215816818, BIC: 6545.146810735009\n",
            "likelihood: -3119.114658577059, AIC: 6500.229317154118, BIC: 6552.353597890704\n",
            "likelihood: -3119.1440254660606, AIC: 6506.288050932121, BIC: 6559.606017487103\n",
            "likelihood: -3119.147204023096, AIC: 6512.294408046192, BIC: 6566.806060419569\n",
            "likelihood: -3119.152380110066, AIC: 6518.304760220132, BIC: 6574.010098411904\n",
            "likelihood: -3119.069218543077, AIC: 6524.138437086154, BIC: 6581.037461096321\n",
            "likelihood: -3119.0356256192695, AIC: 6530.071251238539, BIC: 6588.163961067101\n",
            "likelihood: -3119.052011861881, AIC: 6536.104023723762, BIC: 6595.390419370719\n",
            "likelihood: -3119.0241911501607, AIC: 6542.0483823003215, BIC: 6602.528463765674\n",
            "likelihood: -3118.925354275453, AIC: 6547.850708550906, BIC: 6609.5244758346535\n"
          ],
          "name": "stdout"
        }
      ]
    },
    {
      "cell_type": "code",
      "metadata": {
        "id": "uESel3rzRbC4",
        "outputId": "58972f48-d6c9-4f62-c69a-fe8be9b9293b",
        "colab": {
          "base_uri": "https://localhost:8080/",
          "height": 547
        }
      },
      "source": [
        "x = np.arange(2,50)\n",
        "print(\"AIC graph\")\n",
        "plt.plot(x,aic)\n",
        "plt.show()\n",
        "print(\"BIC Graph\")\n",
        "plt.plot(x,bic)\n",
        "plt.show()\n"
      ],
      "execution_count": 23,
      "outputs": [
        {
          "output_type": "stream",
          "text": [
            "AIC graph\n"
          ],
          "name": "stdout"
        },
        {
          "output_type": "display_data",
          "data": {
            "image/png": "[encoded data removed]",
            "text/plain": [
              "<Figure size 432x288 with 1 Axes>"
            ]
          },
          "metadata": {
            "tags": [],
            "needs_background": "light"
          }
        },
        {
          "output_type": "stream",
          "text": [
            "BIC Graph\n"
          ],
          "name": "stdout"
        },
        {
          "output_type": "display_data",
          "data": {
            "image/png": "[encoded data removed]",
            "text/plain": [
              "<Figure size 432x288 with 1 Axes>"
            ]
          },
          "metadata": {
            "tags": [],
            "needs_background": "light"
          }
        }
      ]
    },
    {
      "cell_type": "code",
      "metadata": {
        "id": "u7xcAkA6GqEA"
      },
      "source": [
        "bla = np.diff(likelihood)"
      ],
      "execution_count": 24,
      "outputs": []
    },
    {
      "cell_type": "code",
      "metadata": {
        "id": "Hv-fkO6FGwTO",
        "outputId": "2452bf7d-7825-4630-e0db-becf68b93106",
        "colab": {
          "base_uri": "https://localhost:8080/",
          "height": 282
        }
      },
      "source": [
        "print(\"Log Likelihood\")\n",
        "x = np.arange(3,50)\n",
        "plt.plot(x,bla)\n",
        "plt.axhline(y=0.05, color='r', linestyle='-')\n",
        "plt.axhline(y=-0.05, color='r', linestyle='-')\n",
        "plt.show()"
      ],
      "execution_count": 25,
      "outputs": [
        {
          "output_type": "stream",
          "text": [
            "Log Likelihood\n"
          ],
          "name": "stdout"
        },
        {
          "output_type": "display_data",
          "data": {
            "image/png": "[encoded data removed]",
            "text/plain": [
              "<Figure size 432x288 with 1 Axes>"
            ]
          },
          "metadata": {
            "tags": [],
            "needs_background": "light"
          }
        }
      ]
    },
    {
      "cell_type": "markdown",
      "metadata": {
        "id": "DERYdBaVGWjP"
      },
      "source": [
        "## Results -\n"
      ]
    }
  ]
}