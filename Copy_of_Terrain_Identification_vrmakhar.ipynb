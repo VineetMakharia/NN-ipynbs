{
  "nbformat": 4,
  "nbformat_minor": 0,
  "metadata": {
    "colab": {
      "name": "Copy of Terrain_Identification_vrmakhar.ipynb",
      "provenance": [],
      "collapsed_sections": [],
      "include_colab_link": true
    },
    "kernelspec": {
      "name": "python3",
      "display_name": "Python 3"
    }
  },
  "cells": [
    {
      "cell_type": "markdown",
      "metadata": {
        "id": "view-in-github",
        "colab_type": "text"
      },
      "source": [
        "<a href=\"https://colab.research.google.com/github/VineetMakharia/NN-ipynbs/blob/main/Copy_of_Terrain_Identification_vrmakhar.ipynb\" target=\"_parent\"><img src=\"https://colab.research.google.com/assets/colab-badge.svg\" alt=\"Open In Colab\"/></a>"
      ]
    },
    {
      "cell_type": "code",
      "metadata": {
        "id": "GJNJUxs6txwW",
        "outputId": "9d0ea55c-c103-494a-b0fb-cabbe5e0aff6",
        "colab": {
          "base_uri": "https://localhost:8080/",
          "height": 34
        }
      },
      "source": [
        "from google.colab import auth, drive\n",
        "from oauth2client.client import GoogleCredentials\n",
        "import sys\n",
        "\n",
        "drive.mount('/content/gdrive')"
      ],
      "execution_count": null,
      "outputs": [
        {
          "output_type": "stream",
          "text": [
            "Mounted at /content/gdrive\n"
          ],
          "name": "stdout"
        }
      ]
    },
    {
      "cell_type": "code",
      "metadata": {
        "id": "4Sf4z4m58w_w",
        "outputId": "90250637-e527-4f7d-f07a-bb0ef94655a3",
        "colab": {
          "base_uri": "https://localhost:8080/",
          "height": 51
        }
      },
      "source": [
        "\n",
        "!fusermount -u drive\n",
        "!google-drive-ocamlfuse drive"
      ],
      "execution_count": null,
      "outputs": [
        {
          "output_type": "stream",
          "text": [
            "fusermount: failed to unmount /content/gdrive/drive: No such file or directory\n",
            "/bin/bash: google-drive-ocamlfuse: command not found\n"
          ],
          "name": "stdout"
        }
      ]
    },
    {
      "cell_type": "code",
      "metadata": {
        "id": "rQUcBTR286AS",
        "outputId": "f0a95544-f764-4d3e-9f6a-dc563741daed",
        "colab": {
          "base_uri": "https://localhost:8080/",
          "height": 34
        }
      },
      "source": [
        "drive.mount(\"/content/gdrive\", force_remount=True)"
      ],
      "execution_count": null,
      "outputs": [
        {
          "output_type": "stream",
          "text": [
            "Mounted at /content/gdrive\n"
          ],
          "name": "stdout"
        }
      ]
    },
    {
      "cell_type": "code",
      "metadata": {
        "id": "FW9AuEw-46t8",
        "outputId": "cec29a70-e0a9-472e-fe88-fa4e2e22909c",
        "colab": {
          "base_uri": "https://localhost:8080/",
          "height": 34
        }
      },
      "source": [
        "import os\n",
        "os.chdir(\"/content/gdrive/\")\n",
        "!ls"
      ],
      "execution_count": null,
      "outputs": [
        {
          "output_type": "stream",
          "text": [
            "'My Drive'\n"
          ],
          "name": "stdout"
        }
      ]
    },
    {
      "cell_type": "code",
      "metadata": {
        "id": "CMz_x7aBxMTP"
      },
      "source": [
        "dir_path = '/content/drive/My Drive/ECE542_fa20_Project_TerrainRecognition/TrainingData/'\n",
        "dir_path_test = '/content/drive/My Drive/ECE542_fa20_Project_TerrainRecognition/TestData/'\n",
        "sub_001 = 'subject_001_01__x.csv'\n",
        "sub_001_time = 'subject_001_01__x_time.csv'\n",
        "sub_001_y = 'subject_001_01__y.csv'\n",
        "sub_001_time_y = 'subject_001_01__y_time.csv'\n",
        "\n",
        "# testing data files\n",
        "sub_009_01_x = 'subject_009_01__x.csv'\n",
        "sub_009_01_x_time = 'subject_009_01__x_time.csv'\n",
        "sub_009_01_y_time = 'subject_009_01__y_time.csv'\n",
        "\n",
        "sys.path.append(dir_path)\n",
        "sys.path.append(dir_path_test)\n",
        "# /content/gdrive/My Drive/ECE542_fa20_Project_TerrainRecognition/TestData/subject_009_01__x.csv"
      ],
      "execution_count": null,
      "outputs": []
    },
    {
      "cell_type": "code",
      "metadata": {
        "id": "mcY3TiX378bg",
        "outputId": "e51c5db3-1d76-4777-9225-1236825fd28e",
        "colab": {
          "base_uri": "https://localhost:8080/",
          "height": 34
        }
      },
      "source": [
        "from google.colab import drive\n",
        "drive.mount('/content/drive')"
      ],
      "execution_count": null,
      "outputs": [
        {
          "output_type": "stream",
          "text": [
            "Drive already mounted at /content/drive; to attempt to forcibly remount, call drive.mount(\"/content/drive\", force_remount=True).\n"
          ],
          "name": "stdout"
        }
      ]
    },
    {
      "cell_type": "markdown",
      "metadata": {
        "id": "xElrJZsw6Nx9"
      },
      "source": [
        "# New Section"
      ]
    },
    {
      "cell_type": "code",
      "metadata": {
        "id": "rAoTkmn6yVOl"
      },
      "source": [
        "import pandas as pd\n",
        "import matplotlib.pyplot as plt"
      ],
      "execution_count": null,
      "outputs": []
    },
    {
      "cell_type": "markdown",
      "metadata": {
        "id": "PBM02m2y3FPK"
      },
      "source": [
        "\"_x\" files contain the xyz accelerometers and xyz gyroscope measurements from the lower limb."
      ]
    },
    {
      "cell_type": "code",
      "metadata": {
        "id": "eKr62dTIyQDy",
        "outputId": "75662f1d-4f86-472f-f83e-4d7c0c5ef496",
        "colab": {
          "base_uri": "https://localhost:8080/",
          "height": 34
        }
      },
      "source": [
        "columns_x = ['x_acc', 'y_acc', 'z_acc', 'x_gyro', 'y_gyro', 'z_gyro']\n",
        "\n",
        "sub_001_data = pd.read_csv('/content/drive/My Drive/ECE542_fa20_Project_TerrainRecognition/TrainingData/subject_001_01__x.csv', names=columns_x)\n",
        "sub_001_data.head()\n",
        "\n",
        "sub_001_data.shape"
      ],
      "execution_count": null,
      "outputs": [
        {
          "output_type": "execute_result",
          "data": {
            "text/plain": [
              "(37890, 6)"
            ]
          },
          "metadata": {
            "tags": []
          },
          "execution_count": 13
        }
      ]
    },
    {
      "cell_type": "markdown",
      "metadata": {
        "id": "ptzBIOI93IKu"
      },
      "source": [
        "\"_x_time\" files contain the time stamps for the accelerometer and gyroscope measurements. The units are in seconds and the sampling rate is 40 Hz. "
      ]
    },
    {
      "cell_type": "code",
      "metadata": {
        "id": "x8k389WuzQ4v",
        "outputId": "2c3ed0eb-0039-4dbf-a9d3-ffff5cb23f8e",
        "colab": {
          "base_uri": "https://localhost:8080/",
          "height": 34
        }
      },
      "source": [
        "columns_x_time = ['x_time']\n",
        "\n",
        "sub_001_time_data = pd.read_csv('/content/drive/My Drive/ECE542_fa20_Project_TerrainRecognition/TrainingData/subject_001_01__x_time.csv', names=columns_x_time)\n",
        "sub_001_time_data.head()\n",
        "\n",
        "sub_001_time_data.shape"
      ],
      "execution_count": null,
      "outputs": [
        {
          "output_type": "execute_result",
          "data": {
            "text/plain": [
              "(37890, 1)"
            ]
          },
          "metadata": {
            "tags": []
          },
          "execution_count": 16
        }
      ]
    },
    {
      "cell_type": "markdown",
      "metadata": {
        "id": "Kur39nCk3LCC"
      },
      "source": [
        "\"_y\" files contain the labels. \n",
        "(0) indicates standing or walking in solid ground, \n",
        "(1) indicates going down the stairs, \n",
        "(2) indicates going up the stairs, and \n",
        "(3) indicates walking on grass."
      ]
    },
    {
      "cell_type": "code",
      "metadata": {
        "id": "fgwqgNhw0D5U",
        "outputId": "0d231bcf-ee22-43e2-c937-9cdb9106f92f",
        "colab": {
          "base_uri": "https://localhost:8080/",
          "height": 34
        }
      },
      "source": [
        "columns_y = ['labels']\n",
        "\n",
        "sub_001_y_data = pd.read_csv('/content/drive/My Drive/ECE542_fa20_Project_TerrainRecognition/TrainingData/subject_001_01__y.csv', names=columns_y)\n",
        "sub_001_y_data.head()\n",
        "\n",
        "sub_001_y_data.shape"
      ],
      "execution_count": null,
      "outputs": [
        {
          "output_type": "execute_result",
          "data": {
            "text/plain": [
              "(9473, 1)"
            ]
          },
          "metadata": {
            "tags": []
          },
          "execution_count": 17
        }
      ]
    },
    {
      "cell_type": "markdown",
      "metadata": {
        "id": "isSng4Sd3Ui-"
      },
      "source": [
        "\"_y_time\" files contain the time stampes for the labels. The units are in seconds and the sampling rates is 10 Hz. "
      ]
    },
    {
      "cell_type": "code",
      "metadata": {
        "id": "ngwMigu10r4U",
        "outputId": "f5e03a73-b385-4b3a-fb78-e1f1ba8eb9b1",
        "colab": {
          "base_uri": "https://localhost:8080/",
          "height": 34
        }
      },
      "source": [
        "columns_y_time = ['y_time']\n",
        "\n",
        "sub_001_time_y_data = pd.read_csv('/content/drive/My Drive/ECE542_fa20_Project_TerrainRecognition/TrainingData/subject_001_01__y_time.csv', names=columns_y_time)\n",
        "sub_001_time_y_data.head()\n",
        "\n",
        "sub_001_time_y_data.shape"
      ],
      "execution_count": null,
      "outputs": [
        {
          "output_type": "execute_result",
          "data": {
            "text/plain": [
              "(9473, 1)"
            ]
          },
          "metadata": {
            "tags": []
          },
          "execution_count": 18
        }
      ]
    },
    {
      "cell_type": "code",
      "metadata": {
        "id": "-XBe07al0Lmc",
        "outputId": "9a07e2dc-321e-41c3-bd11-f4127fc5f207",
        "colab": {
          "base_uri": "https://localhost:8080/",
          "height": 265
        }
      },
      "source": [
        "plt.plot(sub_001_data,sub_001_time_data)\n",
        "plt.legend(columns_x)\n",
        "plt.show()"
      ],
      "execution_count": null,
      "outputs": [
        {
          "output_type": "display_data",
          "data": {
            "image/png": "[encoded data removed]",
            "text/plain": [
              "<Figure size 432x288 with 1 Axes>"
            ]
          },
          "metadata": {
            "tags": [],
            "needs_background": "light"
          }
        }
      ]
    },
    {
      "cell_type": "code",
      "metadata": {
        "id": "ldjYSsO_1oN1",
        "outputId": "45b34cde-2ceb-4b86-8c7a-6a9e5e824d59",
        "colab": {
          "base_uri": "https://localhost:8080/",
          "height": 265
        }
      },
      "source": [
        "plt.plot(sub_001_y_data,sub_001_time_y_data)\n",
        "plt.show()"
      ],
      "execution_count": null,
      "outputs": [
        {
          "output_type": "display_data",
          "data": {
            "image/png": "[encoded data removed]",
            "text/plain": [
              "<Figure size 432x288 with 1 Axes>"
            ]
          },
          "metadata": {
            "tags": [],
            "needs_background": "light"
          }
        }
      ]
    },
    {
      "cell_type": "code",
      "metadata": {
        "id": "3Evw7fXd4at8",
        "outputId": "cad38dff-4235-477b-9747-47fd0c3eb4ed",
        "colab": {
          "base_uri": "https://localhost:8080/",
          "height": 102
        }
      },
      "source": [
        "sub_001_y_data['labels'].value_counts()"
      ],
      "execution_count": null,
      "outputs": [
        {
          "output_type": "execute_result",
          "data": {
            "text/plain": [
              "0    6444\n",
              "3    1530\n",
              "2     788\n",
              "1     711\n",
              "Name: labels, dtype: int64"
            ]
          },
          "metadata": {
            "tags": []
          },
          "execution_count": 21
        }
      ]
    },
    {
      "cell_type": "markdown",
      "metadata": {
        "id": "l5QVnSn2OfRL"
      },
      "source": [
        "https://machinelearningmastery.com/time-series-forecasting-supervised-learning/"
      ]
    },
    {
      "cell_type": "markdown",
      "metadata": {
        "id": "zSfwfUuScC-q"
      },
      "source": [
        "Test data - 009_01"
      ]
    },
    {
      "cell_type": "code",
      "metadata": {
        "id": "2tm_LFyB-jLU"
      },
      "source": [
        "def transform_to_supervised(df,\n",
        "                            previous_steps=1, \n",
        "                            forecast_steps=1,\n",
        "                            dropnan=True):\n",
        "\n",
        "    \"\"\"\n",
        "    Transforms a DataFrame containing time series data into a DataFrame\n",
        "    containing data suitable for use as a supervised learning problem.\n",
        "    \n",
        "    Derived from code originally found at \n",
        "    https://machinelearningmastery.com/convert-time-series-supervised-learning-problem-python/\n",
        "    \n",
        "    :param df: pandas DataFrame object containing columns of time series values\n",
        "    :param previous_steps: the number of previous steps that will be included in the\n",
        "                           output DataFrame corresponding to each input column\n",
        "    :param forecast_steps: the number of forecast steps that will be included in the\n",
        "                           output DataFrame corresponding to each input column\n",
        "    :return Pandas DataFrame containing original columns, renamed <orig_name>(t), as well as\n",
        "            columns for previous steps, <orig_name>(t-1) ... <orig_name>(t-n) and columns \n",
        "            for forecast steps, <orig_name>(t+1) ... <orig_name>(t+n)\n",
        "    \"\"\"\n",
        "    \n",
        "    # original column names\n",
        "    col_names = df.columns\n",
        "    \n",
        "    # list of columns and corresponding names we'll build from \n",
        "    # the originals found in the input DataFrame\n",
        "    cols, names = list(), list()\n",
        "\n",
        "    # input sequence (t-n, ... t-1)\n",
        "    for i in range(previous_steps, 0, -1):\n",
        "        cols.append(df.shift(i))\n",
        "        names += [('%s(t-%d)' % (col_name, i)) for col_name in col_names]\n",
        "\n",
        "    # forecast sequence (t, t+1, ... t+n)\n",
        "    for i in range(0, forecast_steps):\n",
        "        cols.append(df.shift(-i))\n",
        "        if i == 0:\n",
        "            names += [('%s(t)' % col_name) for col_name in col_names]\n",
        "        else:\n",
        "            names += [('%s(t+%d)' % (col_name, i)) for col_name in col_names]\n",
        "\n",
        "    # put all the columns together into a single aggregated DataFrame\n",
        "    agg = pd.concat(cols, axis=1)\n",
        "    agg.columns = names\n",
        "\n",
        "    # drop rows with NaN values\n",
        "    if dropnan:\n",
        "        agg.dropna(inplace=True)\n",
        "\n",
        "    return agg"
      ],
      "execution_count": null,
      "outputs": []
    },
    {
      "cell_type": "code",
      "metadata": {
        "id": "GR8VPlYu-kK0"
      },
      "source": [
        "def read_and_merge_data(file_name):\n",
        "  x_data = pd.read_csv(dir_path + 'subject_' + file_name + '__x.csv', names=columns_x)\n",
        "  x_time_data = pd.read_csv(dir_path + 'subject_' + file_name + '__x_time.csv', names=columns_x_time)\n",
        "  y_data = pd.read_csv(dir_path + 'subject_' + file_name + '__y.csv', names=columns_y)\n",
        "\n",
        "  # rounding of time \n",
        "  x_data['time'] = np.floor(x_time_data.apply(lambda x: x * 10))\n",
        "  # merging four rows using mean\n",
        "  x_data_grouped = x_data.groupby('time').mean()\n",
        "  # adding y label to data\n",
        "  x_data_grouped['label'] = y_data\n",
        "\n",
        "  return x_data_grouped"
      ],
      "execution_count": null,
      "outputs": []
    },
    {
      "cell_type": "code",
      "metadata": {
        "id": "WZ3pAGjG-3Wj"
      },
      "source": [
        "import math\n",
        "\n",
        "import pandas as pd\n",
        "import numpy as np\n",
        "import matplotlib.pyplot as plt\n",
        "\n",
        "from collections import Counter\n",
        "\n",
        "from sklearn.model_selection import train_test_split\n",
        "from sklearn.metrics import confusion_matrix, accuracy_score, f1_score, precision_score, recall_score\n",
        "from sklearn.preprocessing import StandardScaler, Normalizer, MinMaxScaler\n",
        "from sklearn.svm import SVC, LinearSVC\n",
        "from sklearn.naive_bayes import MultinomialNB\n",
        "\n",
        "from keras.models import Sequential\n",
        "from keras.layers import Dense\n",
        "from keras.wrappers.scikit_learn import KerasClassifier\n",
        "from keras.utils import np_utils\n",
        "\n",
        "from xgboost import XGBRegressor\n",
        "from xgboost import XGBClassifier"
      ],
      "execution_count": null,
      "outputs": []
    },
    {
      "cell_type": "code",
      "metadata": {
        "id": "IphAwX5_-o23"
      },
      "source": [
        "sub_001_files = ['001_01', '001_02', '001_03', '001_04', '001_05', '001_06', '001_07']\n",
        "sub_001_data = pd.DataFrame()\n",
        "\n",
        "for file in sub_001_files:\n",
        "  dataset = read_and_merge_data(file)\n",
        "  sub_001_data = pd.concat([sub_001_data, dataset], axis=0)"
      ],
      "execution_count": null,
      "outputs": []
    },
    {
      "cell_type": "code",
      "metadata": {
        "id": "TRncjSYQ-962",
        "outputId": "1d135a92-ca49-4a64-b77a-2a52666c177e",
        "colab": {
          "base_uri": "https://localhost:8080/",
          "height": 252
        }
      },
      "source": [
        "print(sub_001_data.shape)\n",
        "sub_001_data.head()"
      ],
      "execution_count": null,
      "outputs": [
        {
          "output_type": "stream",
          "text": [
            "(83837, 7)\n"
          ],
          "name": "stdout"
        },
        {
          "output_type": "execute_result",
          "data": {
            "text/html": [
              "<div>\n",
              "<style scoped>\n",
              "    .dataframe tbody tr th:only-of-type {\n",
              "        vertical-align: middle;\n",
              "    }\n",
              "\n",
              "    .dataframe tbody tr th {\n",
              "        vertical-align: top;\n",
              "    }\n",
              "\n",
              "    .dataframe thead th {\n",
              "        text-align: right;\n",
              "    }\n",
              "</style>\n",
              "<table border=\"1\" class=\"dataframe\">\n",
              "  <thead>\n",
              "    <tr style=\"text-align: right;\">\n",
              "      <th></th>\n",
              "      <th>x_acc</th>\n",
              "      <th>y_acc</th>\n",
              "      <th>z_acc</th>\n",
              "      <th>x_gyro</th>\n",
              "      <th>y_gyro</th>\n",
              "      <th>z_gyro</th>\n",
              "      <th>label</th>\n",
              "    </tr>\n",
              "    <tr>\n",
              "      <th>time</th>\n",
              "      <th></th>\n",
              "      <th></th>\n",
              "      <th></th>\n",
              "      <th></th>\n",
              "      <th></th>\n",
              "      <th></th>\n",
              "      <th></th>\n",
              "    </tr>\n",
              "  </thead>\n",
              "  <tbody>\n",
              "    <tr>\n",
              "      <th>0.0</th>\n",
              "      <td>4.504035</td>\n",
              "      <td>8.340198</td>\n",
              "      <td>2.918309</td>\n",
              "      <td>0.013933</td>\n",
              "      <td>-0.007974</td>\n",
              "      <td>-0.008288</td>\n",
              "      <td>0.0</td>\n",
              "    </tr>\n",
              "    <tr>\n",
              "      <th>1.0</th>\n",
              "      <td>4.425359</td>\n",
              "      <td>8.271379</td>\n",
              "      <td>2.844811</td>\n",
              "      <td>0.016234</td>\n",
              "      <td>-0.011429</td>\n",
              "      <td>-0.014507</td>\n",
              "      <td>0.0</td>\n",
              "    </tr>\n",
              "    <tr>\n",
              "      <th>2.0</th>\n",
              "      <td>4.300705</td>\n",
              "      <td>8.236062</td>\n",
              "      <td>2.834814</td>\n",
              "      <td>-0.001040</td>\n",
              "      <td>-0.008740</td>\n",
              "      <td>0.005591</td>\n",
              "      <td>0.0</td>\n",
              "    </tr>\n",
              "    <tr>\n",
              "      <th>3.0</th>\n",
              "      <td>4.366163</td>\n",
              "      <td>8.318765</td>\n",
              "      <td>2.861348</td>\n",
              "      <td>-0.004983</td>\n",
              "      <td>0.014596</td>\n",
              "      <td>0.042397</td>\n",
              "      <td>0.0</td>\n",
              "    </tr>\n",
              "    <tr>\n",
              "      <th>4.0</th>\n",
              "      <td>4.696528</td>\n",
              "      <td>8.227105</td>\n",
              "      <td>2.842579</td>\n",
              "      <td>-0.008219</td>\n",
              "      <td>0.024097</td>\n",
              "      <td>0.021717</td>\n",
              "      <td>0.0</td>\n",
              "    </tr>\n",
              "  </tbody>\n",
              "</table>\n",
              "</div>"
            ],
            "text/plain": [
              "         x_acc     y_acc     z_acc    x_gyro    y_gyro    z_gyro  label\n",
              "time                                                                   \n",
              "0.0   4.504035  8.340198  2.918309  0.013933 -0.007974 -0.008288    0.0\n",
              "1.0   4.425359  8.271379  2.844811  0.016234 -0.011429 -0.014507    0.0\n",
              "2.0   4.300705  8.236062  2.834814 -0.001040 -0.008740  0.005591    0.0\n",
              "3.0   4.366163  8.318765  2.861348 -0.004983  0.014596  0.042397    0.0\n",
              "4.0   4.696528  8.227105  2.842579 -0.008219  0.024097  0.021717    0.0"
            ]
          },
          "metadata": {
            "tags": []
          },
          "execution_count": 29
        }
      ]
    },
    {
      "cell_type": "code",
      "metadata": {
        "id": "w9lq1dPi_A6r"
      },
      "source": [
        "prev, col_labels = 5, []\n",
        "\n",
        "transformed_data_train = transform_to_supervised(sub_001_data, previous_steps=prev)\n",
        "\n",
        "for i in range(prev, 0, -1):\n",
        "  col_labels.append('label(t-' + str(i) + ')')\n",
        "\n",
        "col_labels.append('label(t)')\n",
        "transformed_data_train = transformed_data_train[[c for c in transformed_data_train.columns if c not in col_labels] + col_labels]\n",
        "\n",
        "transformed_data_train_x = transformed_data_train.drop('label(t)', axis=1)\n",
        "transformed_data_train_y = transformed_data_train['label(t)']"
      ],
      "execution_count": null,
      "outputs": []
    },
    {
      "cell_type": "code",
      "metadata": {
        "id": "OIIhXSky_Dwv",
        "outputId": "2381136f-d57c-4139-987d-9e9b55b28ed7",
        "colab": {
          "base_uri": "https://localhost:8080/",
          "height": 187
        }
      },
      "source": [
        "transformed_data_train_x.columns"
      ],
      "execution_count": null,
      "outputs": [
        {
          "output_type": "execute_result",
          "data": {
            "text/plain": [
              "Index(['x_acc(t-5)', 'y_acc(t-5)', 'z_acc(t-5)', 'x_gyro(t-5)', 'y_gyro(t-5)',\n",
              "       'z_gyro(t-5)', 'x_acc(t-4)', 'y_acc(t-4)', 'z_acc(t-4)', 'x_gyro(t-4)',\n",
              "       'y_gyro(t-4)', 'z_gyro(t-4)', 'x_acc(t-3)', 'y_acc(t-3)', 'z_acc(t-3)',\n",
              "       'x_gyro(t-3)', 'y_gyro(t-3)', 'z_gyro(t-3)', 'x_acc(t-2)', 'y_acc(t-2)',\n",
              "       'z_acc(t-2)', 'x_gyro(t-2)', 'y_gyro(t-2)', 'z_gyro(t-2)', 'x_acc(t-1)',\n",
              "       'y_acc(t-1)', 'z_acc(t-1)', 'x_gyro(t-1)', 'y_gyro(t-1)', 'z_gyro(t-1)',\n",
              "       'x_acc(t)', 'y_acc(t)', 'z_acc(t)', 'x_gyro(t)', 'y_gyro(t)',\n",
              "       'z_gyro(t)', 'label(t-5)', 'label(t-4)', 'label(t-3)', 'label(t-2)',\n",
              "       'label(t-1)'],\n",
              "      dtype='object')"
            ]
          },
          "metadata": {
            "tags": []
          },
          "execution_count": 31
        }
      ]
    },
    {
      "cell_type": "code",
      "metadata": {
        "id": "Xb33FyzFAFft"
      },
      "source": [
        "scaler = StandardScaler()\n",
        "transformed_data_train_x = scaler.fit_transform(transformed_data_train_x)"
      ],
      "execution_count": null,
      "outputs": []
    },
    {
      "cell_type": "code",
      "metadata": {
        "id": "AnG-I-7f_ZM5"
      },
      "source": [
        "# calculate the performance metrics of the model\n",
        "def evaluate_performance(model_name, y_test, y_pred):\n",
        "  accuracy = accuracy_score(y_test, y_pred)\n",
        "  precision = precision_score(y_test, y_pred, average='macro', zero_division=0)\n",
        "  recall = recall_score(y_test, y_pred, average='macro')\n",
        "  f1 = f1_score(y_test, y_pred, average='macro')\n",
        "  conf = confusion_matrix(y_test, y_pred)\n",
        "\n",
        "  print(\"{}: \\nAccuracy:{:.4f}\".format(model_name, accuracy))\n",
        "  print(\"Precision:{:.4f} \\tRecall:{:.4f} \\tF1-Score:{:.4f}\".format(precision, recall, f1))\n",
        "  print(\"Confusion Matrix: \\n{}\".format(conf))\n",
        "\n",
        "# scale the input values to models with standard scalar\n",
        "def scale_input_data(X_train, X_test):\n",
        "  scaler = StandardScaler()\n",
        "  X_train_scaled = scaler.fit_transform(X_train)\n",
        "  X_test_scaled = scaler.fit_transform(X_test)\n",
        "\n",
        "  return X_train_scaled, X_test_scaled"
      ],
      "execution_count": null,
      "outputs": []
    },
    {
      "cell_type": "code",
      "metadata": {
        "id": "CYp4inBP_bEE"
      },
      "source": [
        "def classify_SVM(X_train, X_test, y_train, y_test):\n",
        "  # scaling the data\n",
        "  X_train_scaled, X_test_scaled = scale_input_data(X_train, X_test)\n",
        "\n",
        "  # Multiclass SVM with rbf kernel\n",
        "  svm_classifier = LinearSVC(C = 15, multi_class = 'ovr', random_state = 30, \n",
        "                             max_iter=400000)\n",
        "  svm_classifier.fit(X_train_scaled, y_train)\n",
        "\n",
        "  # predicting test data\n",
        "  y_pred = svm_classifier.predict(X_test_scaled)\n",
        "  evaluate_performance('SVM classifier', y_test, y_pred)"
      ],
      "execution_count": null,
      "outputs": []
    },
    {
      "cell_type": "code",
      "metadata": {
        "id": "vnM8hgULBRjR"
      },
      "source": [
        "cp = sub_001_data.dropna()"
      ],
      "execution_count": null,
      "outputs": []
    },
    {
      "cell_type": "code",
      "metadata": {
        "id": "c_SS-DmL_dgI"
      },
      "source": [
        "tx, vx, ty, vy = train_test_split(cp[cp.columns.difference(['label'])], \n",
        "                                  cp['label'], random_state=17)"
      ],
      "execution_count": null,
      "outputs": []
    },
    {
      "cell_type": "code",
      "metadata": {
        "id": "HwcYLcMOBuqE",
        "outputId": "a7d0690d-8eeb-414b-e56b-045f0aa4c562",
        "colab": {
          "base_uri": "https://localhost:8080/",
          "height": 272
        }
      },
      "source": [
        "print(cp.info())"
      ],
      "execution_count": null,
      "outputs": [
        {
          "output_type": "stream",
          "text": [
            "<class 'pandas.core.frame.DataFrame'>\n",
            "Float64Index: 83836 entries, 0.0 to 7855.0\n",
            "Data columns (total 7 columns):\n",
            " #   Column  Non-Null Count  Dtype  \n",
            "---  ------  --------------  -----  \n",
            " 0   x_acc   83836 non-null  float64\n",
            " 1   y_acc   83836 non-null  float64\n",
            " 2   z_acc   83836 non-null  float64\n",
            " 3   x_gyro  83836 non-null  float64\n",
            " 4   y_gyro  83836 non-null  float64\n",
            " 5   z_gyro  83836 non-null  float64\n",
            " 6   label   83836 non-null  float64\n",
            "dtypes: float64(7)\n",
            "memory usage: 5.1 MB\n",
            "None\n"
          ],
          "name": "stdout"
        }
      ]
    },
    {
      "cell_type": "code",
      "metadata": {
        "id": "JTom-nM7_fg4",
        "outputId": "1dc5e220-0284-4344-9d78-cdd02e787f2e",
        "colab": {
          "base_uri": "https://localhost:8080/",
          "height": 153
        }
      },
      "source": [
        "classify_SVM(tx, vx, ty, vy)"
      ],
      "execution_count": null,
      "outputs": [
        {
          "output_type": "stream",
          "text": [
            "SVM classifier: \n",
            "Accuracy:0.7499\n",
            "Precision:0.4218 \tRecall:0.2522 \tF1-Score:0.2187\n",
            "Confusion Matrix: \n",
            "[[15703     0     0     0]\n",
            " [ 1357     0     0     0]\n",
            " [ 1668     0    15     0]\n",
            " [ 2215     0     1     0]]\n"
          ],
          "name": "stdout"
        }
      ]
    },
    {
      "cell_type": "code",
      "metadata": {
        "id": "rBjaCHFbLlcf"
      },
      "source": [
        "from sklearn.ensemble import RandomForestClassifier"
      ],
      "execution_count": null,
      "outputs": []
    },
    {
      "cell_type": "code",
      "metadata": {
        "id": "AzKniofKLsma"
      },
      "source": [
        "def classify_RF(X_train, X_test, y_train, y_test):\n",
        "  # scaling the data\n",
        "  X_train_scaled, X_test_scaled = scale_input_data(X_train, X_test)\n",
        "\n",
        "  clf=RandomForestClassifier(n_estimators=200, bootstrap=False)\n",
        "  clf.fit(X_train_scaled,y_train)\n",
        "\n",
        "  y_pred=clf.predict(X_test)\n",
        "\n",
        "  y_pred = clf.predict(X_test_scaled)\n",
        "  evaluate_performance('RF', y_test, y_pred)"
      ],
      "execution_count": null,
      "outputs": []
    },
    {
      "cell_type": "code",
      "metadata": {
        "id": "GiN9soRtMpOH"
      },
      "source": [
        "tx, vx, ty, vy = train_test_split(cp[cp.columns.difference(['label'])], \n",
        "                                  cp['label'], random_state=17)"
      ],
      "execution_count": null,
      "outputs": []
    },
    {
      "cell_type": "code",
      "metadata": {
        "id": "tKhivCWrMP7x",
        "outputId": "431d04b7-5b9f-49dc-9b32-8983aa2c3dc4",
        "colab": {
          "base_uri": "https://localhost:8080/",
          "height": 153
        }
      },
      "source": [
        "classify_RF(tx, vx, ty, vy)"
      ],
      "execution_count": null,
      "outputs": [
        {
          "output_type": "stream",
          "text": [
            "RF: \n",
            "Accuracy:0.8463\n",
            "Precision:0.7911 \tRecall:0.6294 \tF1-Score:0.6692\n",
            "Confusion Matrix: \n",
            "[[15247   148   125   183]\n",
            " [  520   801    19    17]\n",
            " [  303    20  1355     5]\n",
            " [ 1832    40     9   335]]\n"
          ],
          "name": "stdout"
        }
      ]
    },
    {
      "cell_type": "code",
      "metadata": {
        "id": "MJRLK7XKP21I"
      },
      "source": [
        "from sklearn import tree"
      ],
      "execution_count": null,
      "outputs": []
    },
    {
      "cell_type": "code",
      "metadata": {
        "id": "bvE0mBE_P3-p"
      },
      "source": [
        "def classify_tree(X_train, X_test, y_train, y_test):\n",
        "  # scaling the data\n",
        "  X_train_scaled, X_test_scaled = scale_input_data(X_train, X_test)\n",
        "\n",
        "  clf=clf = tree.DecisionTreeClassifier()\n",
        "  clf.fit(X_train_scaled,y_train)\n",
        "\n",
        "  y_pred=clf.predict(X_test)\n",
        "\n",
        "  y_pred = clf.predict(X_test_scaled)\n",
        "  evaluate_performance('RF', y_test, y_pred)"
      ],
      "execution_count": null,
      "outputs": []
    },
    {
      "cell_type": "code",
      "metadata": {
        "id": "opjE3ObZP_05"
      },
      "source": [
        "tx, vx, ty, vy = train_test_split(cp[cp.columns.difference(['label'])], \n",
        "                                  cp['label'], random_state=17)"
      ],
      "execution_count": null,
      "outputs": []
    },
    {
      "cell_type": "code",
      "metadata": {
        "id": "eu8zxxS1QB9I",
        "outputId": "08f4cc82-e2d4-4bf0-a2cd-2677565e7277",
        "colab": {
          "base_uri": "https://localhost:8080/",
          "height": 153
        }
      },
      "source": [
        "classify_tree(tx, vx, ty, vy)"
      ],
      "execution_count": null,
      "outputs": [
        {
          "output_type": "stream",
          "text": [
            "RF: \n",
            "Accuracy:0.7613\n",
            "Precision:0.5980 \tRecall:0.5984 \tF1-Score:0.5982\n",
            "Confusion Matrix: \n",
            "[[13396   455   354  1498]\n",
            " [  449   741    60   107]\n",
            " [  366    62  1215    40]\n",
            " [ 1460   102    50   604]]\n"
          ],
          "name": "stdout"
        }
      ]
    }
  ]
}